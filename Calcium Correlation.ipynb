{
 "cells": [
  {
   "cell_type": "code",
   "execution_count": null,
   "metadata": {},
   "outputs": [],
   "source": [
    "import os\n",
    "\n",
    "%matplotlib inline\n",
    "import matplotlib.pyplot as plt\n",
    "import numpy as np\n",
    "import pandas as pd"
   ]
  },
  {
   "cell_type": "code",
   "execution_count": null,
   "metadata": {},
   "outputs": [],
   "source": [
    "root_dir = os.path.join(*[\"data\", \"06142017_U2Os_Demo_model\"])"
   ]
  },
  {
   "cell_type": "code",
   "execution_count": null,
   "metadata": {},
   "outputs": [],
   "source": [
    "tbl_mem = os.path.join(root_dir, \"summary_514_membrane.csv\")\n",
    "tbl_mem = pd.read_csv(tbl_mem, index_col=[0, 1])"
   ]
  },
  {
   "cell_type": "code",
   "execution_count": null,
   "metadata": {},
   "outputs": [],
   "source": [
    "tbl_act = os.path.join(root_dir, \"summary_561_F-actin.csv\")\n",
    "tbl_act = pd.read_csv(tbl_act, index_col=[0, 1])"
   ]
  },
  {
   "cell_type": "markdown",
   "metadata": {},
   "source": [
    "#### Convert table to 2D plot"
   ]
  },
  {
   "cell_type": "code",
   "execution_count": null,
   "metadata": {},
   "outputs": [],
   "source": [
    "def table_to_plot(df):\n",
    "    # time steps\n",
    "    nt = len(tbl_mem.index.levels[0])\n",
    "    # cardinals\n",
    "    nc = len(tbl_mem.index.levels[1])\n",
    "    \n",
    "    p = np.zeros([nt, nc])\n",
    "    for it in range(nt):\n",
    "        p[it, :] = df.loc[it, :]['distance']\n",
    "    return p"
   ]
  },
  {
   "cell_type": "code",
   "execution_count": null,
   "metadata": {},
   "outputs": [],
   "source": [
    "plt_mem = table_to_plot(tbl_mem)\n",
    "plt_act = table_to_plot(tbl_act)"
   ]
  },
  {
   "cell_type": "markdown",
   "metadata": {},
   "source": [
    "Normalized by the first time point."
   ]
  },
  {
   "cell_type": "code",
   "execution_count": null,
   "metadata": {},
   "outputs": [],
   "source": [
    "#plt_mem /= plt_mem[0, :]\n",
    "#plt_act /= plt_act[0, :]"
   ]
  },
  {
   "cell_type": "markdown",
   "metadata": {},
   "source": [
    "#### Cross-correlation"
   ]
  },
  {
   "cell_type": "code",
   "execution_count": null,
   "metadata": {},
   "outputs": [],
   "source": [
    "# time steps\n",
    "nt = len(tbl_mem.index.levels[0])\n",
    "# cardinals\n",
    "nc = len(tbl_mem.index.levels[1])\n",
    "    \n",
    "corr = np.zeros([2*nt-1, nc])\n",
    "for ic, (c_mem, c_act) in enumerate(zip(plt_mem.T, plt_act.T)):\n",
    "    corr[:, ic] = np.correlate(c_mem, c_act, 'full').T"
   ]
  },
  {
   "cell_type": "code",
   "execution_count": null,
   "metadata": {},
   "outputs": [],
   "source": [
    "fig = plt.figure(figsize=(12, 6))\n",
    "\n",
    "# bit subplot\n",
    "ax = fig.add_subplot(111)\n",
    "# add subplots\n",
    "ax_mem = fig.add_subplot(311)\n",
    "ax_act = fig.add_subplot(312)\n",
    "ax_cor = fig.add_subplot(313)\n",
    "\n",
    "# turn off axis lines and ticks of the bit subplot\n",
    "ax.spines['top'].set_color('none')\n",
    "ax.spines['bottom'].set_color('none')\n",
    "ax.spines['left'].set_color('none')\n",
    "ax.spines['right'].set_color('none')\n",
    "ax.tick_params(labelcolor='w', top='off', bottom='off', left='off', right='off')\n",
    "\n",
    "# set common labels\n",
    "ax.set_xlabel('Time Step')\n",
    "\n",
    "# set data\n",
    "ax_mem.imshow(plt_mem.T)\n",
    "ax_act.imshow(plt_act.T)\n",
    "ax_cor.imshow(corr.T)\n",
    "\n",
    "# set title\n",
    "ax_mem.set_title(\"Membrane\")\n",
    "ax_act.set_title(\"F-Actin\")\n",
    "\n",
    "# Y label\n",
    "ax_mem.set_ylabel(\"Cardinal\")\n",
    "ax_act.set_ylabel(\"Cardinal\")\n",
    "\n",
    "# modify correlation x ticks\n",
    "ticks = ax_cor.get_xticks().tolist()\n",
    "nt, _ = corr.shape\n",
    "ot = (nt-1)/2\n",
    "ticks[:] = [x-ot for x in ticks]\n",
    "ax_cor.set_xticklabels(ticks)\n",
    "    \n",
    "plt.tight_layout()"
   ]
  },
  {
   "cell_type": "code",
   "execution_count": null,
   "metadata": {},
   "outputs": [],
   "source": []
  }
 ],
 "metadata": {
  "kernelspec": {
   "display_name": "uToolbox",
   "language": "python",
   "name": "utoolbox"
  },
  "language_info": {
   "codemirror_mode": {
    "name": "ipython",
    "version": 3
   },
   "file_extension": ".py",
   "mimetype": "text/x-python",
   "name": "python",
   "nbconvert_exporter": "python",
   "pygments_lexer": "ipython3",
   "version": "3.6.4"
  }
 },
 "nbformat": 4,
 "nbformat_minor": 2
}
