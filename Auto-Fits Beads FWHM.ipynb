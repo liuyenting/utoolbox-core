{
 "cells": [
  {
   "cell_type": "code",
   "execution_count": 2,
   "metadata": {},
   "outputs": [],
   "source": [
    "import os\n",
    "\n",
    "import numpy as np\n",
    "from skimage.feature import peak_local_max\n",
    "from scipy.stats import multivariate_normal\n",
    "import progressbar\n",
    "import matplotlib.pyplot as plt\n",
    "import imageio\n",
    "\n",
    "from utoolbox.container import Volume"
   ]
  },
  {
   "cell_type": "markdown",
   "metadata": {},
   "source": [
    "### Environment presets"
   ]
  },
  {
   "cell_type": "code",
   "execution_count": 4,
   "metadata": {},
   "outputs": [],
   "source": [
    "file_path = os.path.join(\n",
    "    *[\"data\", \"20170831_SIM\", \"SI_b1a2DSIM_os\", \"summedWF\", \"RAWb1a2DSIM_os_ch0_stack0000_561nm.tif\"]\n",
    ")"
   ]
  },
  {
   "cell_type": "code",
   "execution_count": 5,
   "metadata": {},
   "outputs": [],
   "source": [
    "kernel_size = 15\n",
    "radius = (kernel_size-1) // 2"
   ]
  },
  {
   "cell_type": "markdown",
   "metadata": {},
   "source": [
    "### Load data"
   ]
  },
  {
   "cell_type": "code",
   "execution_count": null,
   "metadata": {},
   "outputs": [],
   "source": [
    "raw = Volume(file_path)\n",
    "print(\"shape={}\".format(raw.shape))\n",
    "print(\"dtype={}\".format(raw.dtype))"
   ]
  },
  {
   "cell_type": "code",
   "execution_count": null,
   "metadata": {},
   "outputs": [],
   "source": [
    "print(\"mean={:.2f}, sd={:.2f}\".format(np.mean(raw), np.std(raw)))"
   ]
  },
  {
   "cell_type": "markdown",
   "metadata": {},
   "source": [
    "### Find peaks"
   ]
  },
  {
   "cell_type": "code",
   "execution_count": null,
   "metadata": {},
   "outputs": [],
   "source": [
    "th = np.mean(raw) + 2*np.std(raw)\n",
    "coords = peak_local_max(\n",
    "    raw, exclude_border=radius, min_distance=2*kernel_size, threshold_abs=th\n",
    ")"
   ]
  },
  {
   "cell_type": "code",
   "execution_count": null,
   "metadata": {},
   "outputs": [],
   "source": [
    "print(\"{} peaks found\".format(len(coords)))"
   ]
  },
  {
   "cell_type": "markdown",
   "metadata": {},
   "source": [
    "### Isolate the patches"
   ]
  },
  {
   "cell_type": "code",
   "execution_count": null,
   "metadata": {},
   "outputs": [],
   "source": [
    "patches = np.zeros((len(coords), kernel_size, kernel_size, kernel_size), dtype=np.float32)"
   ]
  },
  {
   "cell_type": "code",
   "execution_count": null,
   "metadata": {},
   "outputs": [],
   "source": [
    "index = 0\n",
    "bar = progressbar.ProgressBar()\n",
    "for coord in bar(coords):\n",
    "    x = coord[2]\n",
    "    y = coord[1]\n",
    "    z = coord[0]\n",
    "    \n",
    "    patches[index, ...] = raw[z-radius:z+radius+1, y-radius:y+radius+1, x-radius:x+radius+1]\n",
    "    \n",
    "    index += 1"
   ]
  },
  {
   "cell_type": "markdown",
   "metadata": {},
   "source": [
    "Save cropped patches."
   ]
  },
  {
   "cell_type": "code",
   "execution_count": null,
   "metadata": {},
   "outputs": [],
   "source": [
    "patches_folder = os.path.join(os.path.dirname(file_path), \"patches\")\n",
    "if not os.path.exists(patches_folder):\n",
    "    os.makedirs(patches_folder)\n",
    "    \n",
    "index = 0\n",
    "bar = progressbar.ProgressBar()\n",
    "for patch in bar(patches):\n",
    "    patches_path = os.path.join(patches_folder, \"{}.tif\".format(index))\n",
    "    imageio.volwrite(patches_path, patch)\n",
    "    index += 1"
   ]
  },
  {
   "cell_type": "markdown",
   "metadata": {},
   "source": [
    "### Preview"
   ]
  },
  {
   "cell_type": "code",
   "execution_count": null,
   "metadata": {},
   "outputs": [],
   "source": [
    "raw_xy = np.amax(raw, axis=0)"
   ]
  },
  {
   "cell_type": "code",
   "execution_count": null,
   "metadata": {
    "scrolled": true
   },
   "outputs": [],
   "source": [
    "plt.figure(figsize=(10, 10))\n",
    "plt.autoscale(enable=True, tight=True)\n",
    "\n",
    "plt.imshow(raw_xy, cmap='jet')\n",
    "plt.scatter(coords[:, 2], coords[:, 1], s=100, marker='o', facecolors='none', edgecolor='w')"
   ]
  },
  {
   "cell_type": "markdown",
   "metadata": {},
   "source": [
    "### 3D fitting"
   ]
  },
  {
   "cell_type": "code",
   "execution_count": 6,
   "metadata": {},
   "outputs": [],
   "source": [
    "x, y, z = np.mgrid[\n",
    "    -1.:1.:1./kernel_size*1j, \n",
    "    -1.:1.:1./kernel_size*1j, \n",
    "    -1.:1.:1./kernel_size*1j\n",
    "]\n",
    "# (N, 3) array of (x, y, z) pairs\n",
    "xyz = np.column_stack([x.flat, y.flat, z.flat])\n",
    "\n",
    "mu = np.array([0., 0., 0.])\n",
    "sigma = np.array([.025, .025, .025])"
   ]
  },
  {
   "cell_type": "code",
   "execution_count": null,
   "metadata": {},
   "outputs": [],
   "source": [
    "def gaussian_3d(mu, sigma):\n",
    "    covariance = np.diag(sigma**2)\n",
    "    z = multivariate_normal.pdf(xyz, mean=mu, cov=covariance)\n",
    "    # reshape back to cubical grid\n",
    "    return z.reshape(x)\n",
    "x, y = np.mgrid[-1.0:1.0:30j, -1.0:1.0:30j]\n",
    "# Need an (N, 2) array of (x, y) pairs.\n",
    "xy = np.column_stack([x.flat, y.flat])\n",
    "\n",
    "mu = np.array([0.0, 0.0])\n",
    "\n",
    "sigma = np.array([.025, .025])\n",
    "covariance = np.diag(sigma**2)\n",
    "\n",
    "z = multivariate_normal.pdf(xy, mean=mu, cov=covariance)\n",
    "\n",
    "# Reshape back to a (30, 30) grid.\n",
    "z = z.reshape(x.shape)"
   ]
  }
 ],
 "metadata": {
  "kernelspec": {
   "display_name": "uToolbox",
   "language": "python",
   "name": "utoolbox"
  },
  "language_info": {
   "codemirror_mode": {
    "name": "ipython",
    "version": 3
   },
   "file_extension": ".py",
   "mimetype": "text/x-python",
   "name": "python",
   "nbconvert_exporter": "python",
   "pygments_lexer": "ipython3",
   "version": "3.6.4"
  }
 },
 "nbformat": 4,
 "nbformat_minor": 2
}
