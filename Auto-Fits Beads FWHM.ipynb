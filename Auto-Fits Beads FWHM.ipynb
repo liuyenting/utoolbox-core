{
 "cells": [
  {
   "cell_type": "code",
   "execution_count": null,
   "metadata": {},
   "outputs": [],
   "source": [
    "import os\n",
    "from collections import namedtuple\n",
    "import math\n",
    "import json\n",
    "\n",
    "import numpy as np\n",
    "import pandas as pd\n",
    "from skimage.feature import peak_local_max\n",
    "from scipy.stats import multivariate_normal\n",
    "from scipy.optimize import leastsq\n",
    "import progressbar\n",
    "import matplotlib.pyplot as plt\n",
    "import imageio\n",
    "\n",
    "from utoolbox.container import Volume"
   ]
  },
  {
   "cell_type": "markdown",
   "metadata": {},
   "source": [
    "### Environment presets"
   ]
  },
  {
   "cell_type": "code",
   "execution_count": null,
   "metadata": {},
   "outputs": [],
   "source": [
    "file_path = os.path.join(\n",
    "    *[\"data\", \"20170831_SIM\", \"SI_b1a2DSIM_os\", \"decWF\", \"RAWb1a2DSIM_os_ch0_stack0000_561nm.tif\"]\n",
    ")"
   ]
  },
  {
   "cell_type": "code",
   "execution_count": null,
   "metadata": {},
   "outputs": [],
   "source": [
    "dx = 50\n",
    "dy = 50\n",
    "dz = 300"
   ]
  },
  {
   "cell_type": "code",
   "execution_count": null,
   "metadata": {},
   "outputs": [],
   "source": [
    "kernel_size = 15\n",
    "radius = (kernel_size-1) // 2"
   ]
  },
  {
   "cell_type": "code",
   "execution_count": null,
   "metadata": {},
   "outputs": [],
   "source": [
    "results = pd.DataFrame(\n",
    "    columns=[\n",
    "        'px', 'py', 'pz', # bounding box center\n",
    "        'a',              # amplitude\n",
    "        'cx', 'cy', 'cz', # center\n",
    "        'wx', 'wy', 'wz', # sigma\n",
    "    ]\n",
    ")"
   ]
  },
  {
   "cell_type": "markdown",
   "metadata": {},
   "source": [
    "### Load data"
   ]
  },
  {
   "cell_type": "code",
   "execution_count": null,
   "metadata": {},
   "outputs": [],
   "source": [
    "raw = Volume(file_path)\n",
    "print(\"shape={}\".format(raw.shape))\n",
    "print(\"dtype={}\".format(raw.dtype))"
   ]
  },
  {
   "cell_type": "code",
   "execution_count": null,
   "metadata": {},
   "outputs": [],
   "source": [
    "print(\"mean={:.2f}, sd={:.2f}\".format(np.mean(raw), np.std(raw)))"
   ]
  },
  {
   "cell_type": "markdown",
   "metadata": {},
   "source": [
    "### Find peaks"
   ]
  },
  {
   "cell_type": "code",
   "execution_count": null,
   "metadata": {},
   "outputs": [],
   "source": [
    "th = np.mean(raw) + 2*np.std(raw)\n",
    "coords = peak_local_max(\n",
    "    raw, exclude_border=radius, min_distance=2*kernel_size, threshold_abs=th\n",
    ")"
   ]
  },
  {
   "cell_type": "code",
   "execution_count": null,
   "metadata": {},
   "outputs": [],
   "source": [
    "print(\"{} peaks found\".format(len(coords)))"
   ]
  },
  {
   "cell_type": "markdown",
   "metadata": {},
   "source": [
    "### Isolate the patches"
   ]
  },
  {
   "cell_type": "code",
   "execution_count": null,
   "metadata": {},
   "outputs": [],
   "source": [
    "patches = np.zeros((len(coords), kernel_size, kernel_size, kernel_size), dtype=np.float32)"
   ]
  },
  {
   "cell_type": "code",
   "execution_count": null,
   "metadata": {},
   "outputs": [],
   "source": [
    "index = 0\n",
    "bar = progressbar.ProgressBar()\n",
    "for coord in bar(coords):\n",
    "    x = coord[2]\n",
    "    y = coord[1]\n",
    "    z = coord[0]\n",
    "    \n",
    "    results.loc[index, 'px'] = x\n",
    "    results.loc[index, 'py'] = y\n",
    "    results.loc[index, 'pz'] = z\n",
    "    \n",
    "    patches[index, ...] = raw[z-radius:z+radius+1, y-radius:y+radius+1, x-radius:x+radius+1]\n",
    "    \n",
    "    index += 1"
   ]
  },
  {
   "cell_type": "markdown",
   "metadata": {},
   "source": [
    "### Preview selected beads"
   ]
  },
  {
   "cell_type": "code",
   "execution_count": null,
   "metadata": {},
   "outputs": [],
   "source": [
    "raw_xy = np.amax(raw, axis=0)"
   ]
  },
  {
   "cell_type": "code",
   "execution_count": null,
   "metadata": {
    "scrolled": true
   },
   "outputs": [],
   "source": [
    "plt.figure(figsize=(10, 10))\n",
    "plt.autoscale(enable=True, tight=True)\n",
    "\n",
    "plt.imshow(raw_xy, cmap='jet')\n",
    "plt.scatter(coords[:, 2], coords[:, 1], s=100, marker='o', facecolors='none', edgecolor='w')"
   ]
  },
  {
   "cell_type": "markdown",
   "metadata": {},
   "source": [
    "### 3D fitting"
   ]
  },
  {
   "cell_type": "code",
   "execution_count": null,
   "metadata": {},
   "outputs": [],
   "source": [
    "Params = namedtuple('Params', \n",
    "    ['a',              # amplitude\n",
    "     'cx', 'cy', 'cz', # centroid\n",
    "     'wx', 'wy', 'wz'  # width\n",
    "    ]\n",
    ")"
   ]
  },
  {
   "cell_type": "markdown",
   "metadata": {},
   "source": [
    "The fitting function."
   ]
  },
  {
   "cell_type": "code",
   "execution_count": null,
   "metadata": {},
   "outputs": [],
   "source": [
    "def gaussian_3d(params):\n",
    "    params = Params(*params)\n",
    "    return lambda x, y, z: \\\n",
    "        params.a * np.exp(\n",
    "            -( ((params.cx-x)/params.wx)**2 + \n",
    "               ((params.cy-y)/params.wz)**2 +\n",
    "               ((params.cz-z)/params.wz)**2\n",
    "             ) / 2\n",
    "        )"
   ]
  },
  {
   "cell_type": "code",
   "execution_count": null,
   "metadata": {},
   "outputs": [],
   "source": [
    "def moments(data):\n",
    "    s = data.sum()\n",
    "    \n",
    "    zi, yi, xi = np.indices(data.shape)\n",
    "    cx = (xi*data).sum() / s\n",
    "    cy = (yi*data).sum() / s\n",
    "    cz = (zi*data).sum() / s\n",
    "    \n",
    "    t = data[int(cz), int(cy), :]\n",
    "    wx = np.sqrt(np.abs((np.arange(t.size)-cx)**2 * t).sum() / t.sum())\n",
    "    t = data[int(cz), :, int(cx)]\n",
    "    wy = np.sqrt(np.abs((np.arange(t.size)-cy)**2 * t).sum() / t.sum())\n",
    "    t = data[:, int(cy), int(cx)]\n",
    "    wz = np.sqrt(np.abs((np.arange(t.size)-cz)**2 * t).sum() / t.sum())\n",
    "    \n",
    "    a = data.max()\n",
    "    \n",
    "    return Params(a, cx, cy, cz, wx, wy, wz)"
   ]
  },
  {
   "cell_type": "code",
   "execution_count": null,
   "metadata": {},
   "outputs": [],
   "source": [
    "def fit_gaussian_3d(data):\n",
    "    \"\"\"Returns fitting result of a 3D Gaussian distribution.\"\"\"\n",
    "    params = moments(data)\n",
    "    err_func = lambda params: \\\n",
    "        np.ravel(gaussian_3d(params)(*np.indices(data.shape)) - data)\n",
    "    optparams, success = leastsq(err_func, params)\n",
    "    return Params(*optparams), success"
   ]
  },
  {
   "cell_type": "code",
   "execution_count": null,
   "metadata": {},
   "outputs": [],
   "source": [
    "index = 0\n",
    "n_failed = 0\n",
    "bar = progressbar.ProgressBar()\n",
    "for patch in bar(patches):\n",
    "    optparams, is_success = fit_gaussian_3d(patch)\n",
    "    \n",
    "    results.loc[index, 'a'] = optparams.a\n",
    "    \n",
    "    results.loc[index, 'cx'] = optparams.cx\n",
    "    results.loc[index, 'cy'] = optparams.cy\n",
    "    results.loc[index, 'cz'] = optparams.cz\n",
    "    \n",
    "    results.loc[index, 'wx'] = optparams.wx\n",
    "    results.loc[index, 'wy'] = optparams.wy\n",
    "    results.loc[index, 'wz'] = optparams.wz\n",
    "    \n",
    "    if not is_success:\n",
    "        n_failed += 1\n",
    "        \n",
    "    index += 1\n",
    "\n",
    "print(\"failed to fit {} beads\".format(n_failed))"
   ]
  },
  {
   "cell_type": "markdown",
   "metadata": {},
   "source": [
    "### Statistics"
   ]
  },
  {
   "cell_type": "code",
   "execution_count": null,
   "metadata": {},
   "outputs": [],
   "source": [
    "wx = results['wx'].mean()\n",
    "wx_e = results['wx'].std()\n",
    "\n",
    "wy = results['wy'].mean()\n",
    "wy_e = results['wy'].std()\n",
    "\n",
    "wz = results['wz'].mean()\n",
    "wz_e = results['wz'].std()"
   ]
  },
  {
   "cell_type": "markdown",
   "metadata": {},
   "source": [
    "$\\text{FWHM} = 2 \\sqrt{2 ln2} \\sigma$"
   ]
  },
  {
   "cell_type": "code",
   "execution_count": null,
   "metadata": {},
   "outputs": [],
   "source": [
    "factor = 2 * math.sqrt(2 * math.log(2))"
   ]
  },
  {
   "cell_type": "code",
   "execution_count": null,
   "metadata": {},
   "outputs": [],
   "source": [
    "xres = wx * factor * dx\n",
    "yres = wy * factor * dy\n",
    "zres = wz * factor * dz"
   ]
  },
  {
   "cell_type": "code",
   "execution_count": null,
   "metadata": {},
   "outputs": [],
   "source": [
    "print(\"FWHM resolution (x, y, z) = ({:.4f}, {:.4f}, {:.4f}) nm\".format(xres, yres, zres))"
   ]
  },
  {
   "cell_type": "markdown",
   "metadata": {},
   "source": [
    "### Save the result to files"
   ]
  },
  {
   "cell_type": "markdown",
   "metadata": {},
   "source": [
    "Save cropped patches."
   ]
  },
  {
   "cell_type": "code",
   "execution_count": null,
   "metadata": {},
   "outputs": [],
   "source": [
    "patches_folder = os.path.join(os.path.dirname(file_path), \"patches\")\n",
    "if not os.path.exists(patches_folder):\n",
    "    os.makedirs(patches_folder)\n",
    "    \n",
    "index = 0\n",
    "bar = progressbar.ProgressBar()\n",
    "for patch in bar(patches):\n",
    "    patches_path = os.path.join(patches_folder, \"{}.tif\".format(index))\n",
    "    imageio.volwrite(patches_path, patch)\n",
    "    index += 1"
   ]
  },
  {
   "cell_type": "markdown",
   "metadata": {},
   "source": [
    "Save fitting results."
   ]
  },
  {
   "cell_type": "code",
   "execution_count": null,
   "metadata": {},
   "outputs": [],
   "source": [
    "results_path = os.path.join(os.path.dirname(file_path), \"fitting_results.csv\")\n",
    "results.to_csv(results_path, index=False)"
   ]
  },
  {
   "cell_type": "markdown",
   "metadata": {},
   "source": [
    "Statistics summary."
   ]
  },
  {
   "cell_type": "code",
   "execution_count": null,
   "metadata": {},
   "outputs": [],
   "source": [
    "summary_path = os.path.join(os.path.dirname(file_path), \"summary.json\")\n",
    "with open(summary_path, 'w') as outfile:\n",
    "    json.dump(\n",
    "        {\n",
    "            'source': os.path.basename(file_path),\n",
    "            'unit': 'nm',\n",
    "            'factor': factor,\n",
    "            'spacing': {\n",
    "                'x': dx,\n",
    "                'y': dy, \n",
    "                'z': dz\n",
    "            },\n",
    "            'resolution': {\n",
    "                'x': xres,\n",
    "                'y': yres,\n",
    "                'z': zres\n",
    "            }\n",
    "        }, \n",
    "        outfile, \n",
    "        indent=4, \n",
    "    )"
   ]
  },
  {
   "cell_type": "markdown",
   "metadata": {},
   "source": [
    "### Fitting test"
   ]
  },
  {
   "cell_type": "code",
   "execution_count": null,
   "metadata": {},
   "outputs": [],
   "source": [
    "i_patch = 40\n",
    "data = patches[i_patch, ...]\n",
    "\n",
    "optparams, success = fit_gaussian_3d(data)\n",
    "print(\"success? {}\".format(success))\n",
    "\n",
    "Params(*optparams)"
   ]
  },
  {
   "cell_type": "code",
   "execution_count": null,
   "metadata": {},
   "outputs": [],
   "source": [
    "plt.figure(figsize=(5, 5))\n",
    "plt.autoscale(enable=True, tight=True)\n",
    "\n",
    "data_fit = gaussian_3d(optparams)(*np.indices(data.shape))\n",
    "plt.imshow(np.amax(data, axis=0), cmap='jet')\n",
    "plt.contour(np.amax(data_fit, axis=0), cmap='jet')"
   ]
  },
  {
   "cell_type": "code",
   "execution_count": null,
   "metadata": {},
   "outputs": [],
   "source": [
    "results"
   ]
  },
  {
   "cell_type": "code",
   "execution_count": null,
   "metadata": {},
   "outputs": [],
   "source": []
  }
 ],
 "metadata": {
  "kernelspec": {
   "display_name": "uToolbox",
   "language": "python",
   "name": "utoolbox"
  },
  "language_info": {
   "codemirror_mode": {
    "name": "ipython",
    "version": 3
   },
   "file_extension": ".py",
   "mimetype": "text/x-python",
   "name": "python",
   "nbconvert_exporter": "python",
   "pygments_lexer": "ipython3",
   "version": "3.6.4"
  }
 },
 "nbformat": 4,
 "nbformat_minor": 2
}
