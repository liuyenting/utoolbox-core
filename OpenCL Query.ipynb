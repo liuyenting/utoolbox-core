{
 "cells": [
  {
   "cell_type": "code",
   "execution_count": 1,
   "metadata": {},
   "outputs": [],
   "source": [
    "import pyopencl as pcl"
   ]
  },
  {
   "cell_type": "code",
   "execution_count": 2,
   "metadata": {},
   "outputs": [
    {
     "name": "stdout",
     "output_type": "stream",
     "text": [
      "OpenCL 1.2 (Mar 15 2018 21:59:37)\n",
      ".. Intel(R) Core(TM) i7-4850HQ CPU @ 2.30GHz, 1.1\n",
      ".. Iris Pro, 1.2(Apr 13 2018 20:17:34)\n",
      ".. GeForce GT 750M, 10.31.25 387.10.10.10.30.107\n"
     ]
    }
   ],
   "source": [
    "for platform in pcl.get_platforms():\n",
    "    print(platform.get_info(pcl.platform_info.VERSION))\n",
    "    for device in platform.get_devices():\n",
    "        print(\".. {}, {}\".format(\n",
    "            device.get_info(pcl.device_info.NAME),\n",
    "            device.get_info(pcl.device_info.DRIVER_VERSION)\n",
    "        ))"
   ]
  },
  {
   "cell_type": "code",
   "execution_count": null,
   "metadata": {
    "slideshow": {
     "slide_type": "-"
    }
   },
   "outputs": [],
   "source": []
  }
 ],
 "metadata": {
  "kernelspec": {
   "display_name": "uToolbox",
   "language": "python",
   "name": "utoolbox"
  },
  "language_info": {
   "codemirror_mode": {
    "name": "ipython",
    "version": 3
   },
   "file_extension": ".py",
   "mimetype": "text/x-python",
   "name": "python",
   "nbconvert_exporter": "python",
   "pygments_lexer": "ipython3",
   "version": "3.6.5"
  }
 },
 "nbformat": 4,
 "nbformat_minor": 2
}
