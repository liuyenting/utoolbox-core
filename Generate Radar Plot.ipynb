{
 "cells": [
  {
   "cell_type": "code",
   "execution_count": null,
   "metadata": {},
   "outputs": [],
   "source": [
    "import os\n",
    "\n",
    "%matplotlib inline\n",
    "import matplotlib as mpl\n",
    "import matplotlib.pyplot as plt\n",
    "import numpy as np\n",
    "import pandas as pd\n",
    "\n",
    "%gui qt\n",
    "import utoolbox.utils.files as fileutils"
   ]
  },
  {
   "cell_type": "markdown",
   "metadata": {},
   "source": [
    "#### Plot parameters"
   ]
  },
  {
   "cell_type": "markdown",
   "metadata": {},
   "source": [
    "Y range."
   ]
  },
  {
   "cell_type": "code",
   "execution_count": null,
   "metadata": {},
   "outputs": [],
   "source": [
    "y_ticks = [0., .5, 1.]"
   ]
  },
  {
   "cell_type": "markdown",
   "metadata": {},
   "source": [
    "Column of interest."
   ]
  },
  {
   "cell_type": "code",
   "execution_count": null,
   "metadata": {},
   "outputs": [],
   "source": [
    "col_names = ['distance', 'rel_distance']"
   ]
  },
  {
   "cell_type": "markdown",
   "metadata": {},
   "source": [
    "#### Preset figure visual"
   ]
  },
  {
   "cell_type": "code",
   "execution_count": null,
   "metadata": {},
   "outputs": [],
   "source": [
    "params = {\n",
    "    'font': {\n",
    "        'size': 32\n",
    "    },\n",
    "    'text': {\n",
    "        'color': 'w'\n",
    "    },\n",
    "    'axes': {\n",
    "        'facecolor': 'k',\n",
    "        'edgecolor': 'w',\n",
    "        'labelcolor': 'w'\n",
    "    },\n",
    "    'xtick': {\n",
    "        'color': 'w'\n",
    "    },\n",
    "    'ytick': {\n",
    "        'color': 'w'\n",
    "    },\n",
    "    'figure': {\n",
    "        'facecolor': 'k',\n",
    "        'figsize': (10, 10)\n",
    "    },\n",
    "    'savefig': {\n",
    "        'facecolor': 'k',\n",
    "        'edgecolor': 'k'\n",
    "    }\n",
    "}"
   ]
  },
  {
   "cell_type": "code",
   "execution_count": null,
   "metadata": {},
   "outputs": [],
   "source": [
    "for key, value in params.items():\n",
    "    mpl.rc(key, **value)"
   ]
  },
  {
   "cell_type": "markdown",
   "metadata": {},
   "source": [
    "#### Load file"
   ]
  },
  {
   "cell_type": "code",
   "execution_count": null,
   "metadata": {},
   "outputs": [],
   "source": [
    "source_file = fileutils.get_open_file()"
   ]
  },
  {
   "cell_type": "code",
   "execution_count": null,
   "metadata": {},
   "outputs": [],
   "source": [
    "source_file"
   ]
  },
  {
   "cell_type": "code",
   "execution_count": null,
   "metadata": {},
   "outputs": [],
   "source": [
    "data = pd.read_csv(source_file, index_col=[0, 1])"
   ]
  },
  {
   "cell_type": "markdown",
   "metadata": {},
   "source": [
    "#### Generate plot workspace"
   ]
  },
  {
   "cell_type": "code",
   "execution_count": null,
   "metadata": {},
   "outputs": [],
   "source": [
    "# extract data from table, secondary index\n",
    "n_bins = len(data.index.levels[1])"
   ]
  },
  {
   "cell_type": "code",
   "execution_count": null,
   "metadata": {},
   "outputs": [],
   "source": [
    "# generate required grids\n",
    "bins = np.linspace(-np.pi, np.pi, n_bins+1, dtype=np.float)\n",
    "grids = np.linspace(-np.pi, np.pi, n_bins, endpoint=False)"
   ]
  },
  {
   "cell_type": "code",
   "execution_count": null,
   "metadata": {},
   "outputs": [],
   "source": [
    "f = plt.figure()\n",
    "\n",
    "ax = f.add_subplot(1, 1, 1, projection='polar')\n",
    "ax.set_theta_direction(-1)\n",
    "ax.set_theta_zero_location('E')\n",
    "\n",
    "ax.set_title(\"\", y=1.2)\n",
    "bar = ax.bar(\n",
    "    grids, np.zeros_like(grids),\n",
    "    width=2*np.pi/n_bins, \n",
    "    color=(1., 1., 1., .25), # white with 25% transparency\n",
    "    edgecolor='w',\n",
    "    fill=True,\n",
    "    linewidth=2\n",
    ")\n",
    "ax.set_yticks(y_ticks)"
   ]
  },
  {
   "cell_type": "markdown",
   "metadata": {},
   "source": [
    "#### Convert to 2D array"
   ]
  },
  {
   "cell_type": "code",
   "execution_count": null,
   "metadata": {},
   "outputs": [],
   "source": [
    "root_dir = os.path.dirname(source_file)"
   ]
  },
  {
   "cell_type": "code",
   "execution_count": null,
   "metadata": {},
   "outputs": [],
   "source": [
    "# number of timepoints\n",
    "n_tp = len(data.index.levels[0])\n",
    "\n",
    "for col_name in col_names:\n",
    "    output_dir = os.path.join(root_dir, col_name)\n",
    "    if not os.path.exists(output_dir):\n",
    "        os.makedirs(output_dir)\n",
    "    for i_tp in range(n_tp):\n",
    "        # assign bar heights\n",
    "        for obj, height in zip(bar, data.loc[i_tp, :][col_name]):\n",
    "            obj.set_height(height)\n",
    "        # force update immediately, workaround\n",
    "        f.canvas.draw()\n",
    "        \n",
    "        f.savefig(os.path.join(output_dir, \"t_{:03d}.tif\".format(i_tp)))"
   ]
  },
  {
   "cell_type": "code",
   "execution_count": null,
   "metadata": {},
   "outputs": [],
   "source": []
  }
 ],
 "metadata": {
  "kernelspec": {
   "display_name": "uToolbox",
   "language": "python",
   "name": "utoolbox"
  },
  "language_info": {
   "codemirror_mode": {
    "name": "ipython",
    "version": 3
   },
   "file_extension": ".py",
   "mimetype": "text/x-python",
   "name": "python",
   "nbconvert_exporter": "python",
   "pygments_lexer": "ipython3",
   "version": "3.6.4"
  }
 },
 "nbformat": 4,
 "nbformat_minor": 2
}
