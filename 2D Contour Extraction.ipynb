{
 "cells": [
  {
   "cell_type": "code",
   "execution_count": null,
   "metadata": {},
   "outputs": [],
   "source": [
    "%gui qt\n",
    "\n",
    "import os\n",
    "import warnings\n",
    "\n",
    "import numpy as np\n",
    "import progressbar\n",
    "from skimage.exposure import rescale_intensity\n",
    "import imageio\n",
    "from distributed import LocalCluster, Client, progress\n",
    "\n",
    "import utoolbox.utils.files as fileutils\n",
    "from utoolbox.container import Volume\n",
    "from utoolbox.analysis.roi import extract_mask, mask_to_contour"
   ]
  },
  {
   "cell_type": "markdown",
   "metadata": {},
   "source": [
    "### Preset environment"
   ]
  },
  {
   "cell_type": "markdown",
   "metadata": {},
   "source": [
    "Minimum blob size."
   ]
  },
  {
   "cell_type": "code",
   "execution_count": null,
   "metadata": {},
   "outputs": [],
   "source": [
    "min_size = 25000"
   ]
  },
  {
   "cell_type": "code",
   "execution_count": null,
   "metadata": {},
   "outputs": [],
   "source": [
    "# local cluster\n",
    "cluster = LocalCluster(n_workers=8, threads_per_worker=2)\n",
    "client = Client(cluster)"
   ]
  },
  {
   "cell_type": "code",
   "execution_count": null,
   "metadata": {},
   "outputs": [],
   "source": [
    "print(cluster)"
   ]
  },
  {
   "cell_type": "markdown",
   "metadata": {},
   "source": [
    "### Step 2\n",
    "List files."
   ]
  },
  {
   "cell_type": "code",
   "execution_count": null,
   "metadata": {},
   "outputs": [],
   "source": [
    "source_folder = fileutils.get_local_directory()\n",
    "print(source_folder)\n",
    "file_list = fileutils.list_files(\n",
    "    source_folder, \n",
    "    name_filters=[fileutils.ExtensionFilter('tif')]\n",
    ")"
   ]
  },
  {
   "cell_type": "markdown",
   "metadata": {},
   "source": [
    "### Step 3\n",
    "Generate output folder."
   ]
  },
  {
   "cell_type": "code",
   "execution_count": null,
   "metadata": {},
   "outputs": [],
   "source": [
    "mask_folder = os.path.join(source_folder, 'mask')\n",
    "if not os.path.exists(mask_folder):\n",
    "    os.makedirs(mask_folder)\n",
    "    \n",
    "contour_folder = os.path.join(source_folder, 'contour')\n",
    "if not os.path.exists(contour_folder):\n",
    "    os.makedirs(contour_folder)"
   ]
  },
  {
   "cell_type": "markdown",
   "metadata": {},
   "source": [
    "### Step 4\n",
    "Iterate over the volumes for the extraction."
   ]
  },
  {
   "cell_type": "code",
   "execution_count": null,
   "metadata": {},
   "outputs": [],
   "source": [
    "def load_and_process(file_path):\n",
    "    with warnings.catch_warnings():\n",
    "        warnings.simplefilter(\"ignore\")\n",
    "        data = Volume(file_path)\n",
    "    data = rescale_intensity(data, out_range=(0., 1.))\n",
    "    \n",
    "    # XY MIP\n",
    "    data = np.amax(data, axis=0)\n",
    "    \n",
    "    file_name = os.path.basename(file_path)\n",
    "    \n",
    "    mask = extract_mask(data, iterative=False, min_size=min_size)\n",
    "    imageio.imwrite(\n",
    "        os.path.join(mask_folder, file_name), \n",
    "        rescale_intensity(mask.astype(np.int8))\n",
    "    )\n",
    "        \n",
    "    contour = mask_to_contour(mask)\n",
    "    imageio.imwrite(\n",
    "        os.path.join(contour_folder, file_name), \n",
    "        rescale_intensity(contour.astype(np.int8))\n",
    "    )"
   ]
  },
  {
   "cell_type": "code",
   "execution_count": null,
   "metadata": {},
   "outputs": [],
   "source": [
    "# serial\n",
    "#for file_path in bar(file_list):\n",
    "#    load_and_process(file_path)\n",
    "#    break\n",
    "    \n",
    "# parallel\n",
    "futures = client.map(load_and_process, file_list)"
   ]
  },
  {
   "cell_type": "code",
   "execution_count": null,
   "metadata": {},
   "outputs": [],
   "source": []
  }
 ],
 "metadata": {
  "kernelspec": {
   "display_name": "uToolbox",
   "language": "python",
   "name": "utoolbox"
  },
  "language_info": {
   "codemirror_mode": {
    "name": "ipython",
    "version": 3
   },
   "file_extension": ".py",
   "mimetype": "text/x-python",
   "name": "python",
   "nbconvert_exporter": "python",
   "pygments_lexer": "ipython3",
   "version": "3.6.4"
  }
 },
 "nbformat": 4,
 "nbformat_minor": 2
}
