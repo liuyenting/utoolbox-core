{
 "cells": [
  {
   "cell_type": "code",
   "execution_count": 76,
   "metadata": {},
   "outputs": [],
   "source": [
    "import numpy as np\n",
    "import pandas as pd\n",
    "import matplotlib.pyplot as plt\n",
    "plt.rcParams['figure.figsize'] = (12, 9)\n",
    "from scipy.ndimage.measurements import center_of_mass\n",
    "from scipy.interpolate import splrep, splev\n",
    "from skimage.morphology import remove_small_objects"
   ]
  },
  {
   "cell_type": "code",
   "execution_count": 77,
   "metadata": {},
   "outputs": [],
   "source": [
    "points = pd.read_pickle(\"data/ruffling_2d/contours.pkl\")"
   ]
  },
  {
   "cell_type": "code",
   "execution_count": 85,
   "metadata": {
    "scrolled": true
   },
   "outputs": [
    {
     "data": {
      "image/png": "[encoded data removed]",
      "text/plain": [
       "<matplotlib.figure.Figure at 0x122a5f908>"
      ]
     },
     "metadata": {},
     "output_type": "display_data"
    }
   ],
   "source": [
    "n_samples = 48\n",
    "\n",
    "contour = np.zeros((810, 810), dtype=np.uint8)\n",
    "for iframe in points.index.levels[0]:\n",
    "    x = points.loc[iframe, 'x'].values\n",
    "    y = points.loc[iframe, 'y'].values\n",
    "\n",
    "    # reconstruct contour\n",
    "    contour = np.zeros_like(contour)\n",
    "    contour[y, x] = 255\n",
    "    \n",
    "    # remove small objects\n",
    "    #TODO merge into extrac_contour\n",
    "    contour = remove_small_objects(contour, min_size=256, in_place=True)\n",
    "    \n",
    "    plt.imshow(contour, cmap='gray')\n",
    "    \n",
    "    # interpolate\n",
    "    t, u = splrep([x, y], s=0)\n",
    "    # generate sampler grid\n",
    "    us = None\n",
    "    xys = splev(us, t, der=0) \n",
    "    \n",
    "    break"
   ]
  },
  {
   "cell_type": "code",
   "execution_count": 88,
   "metadata": {},
   "outputs": [
    {
     "data": {
      "text/plain": [
       "True"
      ]
     },
     "execution_count": 88,
     "metadata": {},
     "output_type": "execute_result"
    }
   ],
   "source": [
    "import types\n",
    "isinstance([], list) "
   ]
  },
  {
   "cell_type": "code",
   "execution_count": null,
   "metadata": {},
   "outputs": [],
   "source": []
  }
 ],
 "metadata": {
  "kernelspec": {
   "display_name": "uToolbox",
   "language": "python",
   "name": "utoolbox"
  },
  "language_info": {
   "codemirror_mode": {
    "name": "ipython",
    "version": 3
   },
   "file_extension": ".py",
   "mimetype": "text/x-python",
   "name": "python",
   "nbconvert_exporter": "python",
   "pygments_lexer": "ipython3",
   "version": "3.6.4"
  }
 },
 "nbformat": 4,
 "nbformat_minor": 2
}
