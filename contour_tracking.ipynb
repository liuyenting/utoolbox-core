{
 "cells": [
  {
   "cell_type": "code",
   "execution_count": 76,
   "metadata": {},
   "outputs": [],
   "source": [
    "import numpy as np\n",
    "import pandas as pd\n",
    "import matplotlib.pyplot as plt\n",
    "from scipy.ndimage.measurements import center_of_mass\n",
    "from scipy.interpolate import splrep, splev\n",
    "from skimage.morphology import remove_small_objects"
   ]
  },
  {
   "cell_type": "markdown",
   "metadata": {},
   "source": [
    "Preset environment."
   ]
  },
  {
   "cell_type": "code",
   "execution_count": null,
   "metadata": {},
   "outputs": [],
   "source": [
    "plt.rcParams['figure.figsize'] = (12, 9)\n",
    "\n",
    "bar = progressbar.ProgressBar()\n",
    "\n",
    "# number of sample points\n",
    "n_samples = 48"
   ]
  },
  {
   "cell_type": "code",
   "execution_count": null,
   "metadata": {
    "scrolled": true
   },
   "outputs": [],
   "source": [
    "contour = np.zeros((810, 810), dtype=np.uint8)\n",
    "for iframe in points.index.levels[0]:\n",
    "    x = points.loc[iframe, 'x'].values\n",
    "    y = points.loc[iframe, 'y'].values\n",
    "\n",
    "    # reconstruct contour\n",
    "    contour = np.zeros_like(contour)\n",
    "    contour[y, x] = 255\n",
    "\n",
    "    plt.imshow(contour, cmap='gray')\n",
    "    \n",
    "    # interpolate\n",
    "    t, u = splrep([x, y], s=0)\n",
    "    # generate sampler grid\n",
    "    us = None\n",
    "    xys = splev(us, t, der=0) \n",
    "    \n",
    "    break"
   ]
  }
 ],
 "metadata": {
  "kernelspec": {
   "display_name": "uToolbox",
   "language": "python",
   "name": "utoolbox"
  },
  "language_info": {
   "codemirror_mode": {
    "name": "ipython",
    "version": 3
   },
   "file_extension": ".py",
   "mimetype": "text/x-python",
   "name": "python",
   "nbconvert_exporter": "python",
   "pygments_lexer": "ipython3",
   "version": "3.6.4"
  }
 },
 "nbformat": 4,
 "nbformat_minor": 2
}
