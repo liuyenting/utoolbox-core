{
 "cells": [
  {
   "cell_type": "code",
   "execution_count": 1,
   "metadata": {},
   "outputs": [],
   "source": [
    "import os\n",
    "\n",
    "import imageio\n",
    "import numpy as np\n",
    "import matplotlib.pyplot as plt\n",
    "import SimpleITK as sitk\n",
    "\n",
    "import utoolbox.utils.files as fileutils\n",
    "from utoolbox.container import Raster\n",
    "from utoolbox.container.layouts import Volume"
   ]
  },
  {
   "cell_type": "markdown",
   "metadata": {},
   "source": [
    "Retrieve file list from source directory."
   ]
  },
  {
   "cell_type": "code",
   "execution_count": 2,
   "metadata": {},
   "outputs": [
    {
     "name": "stdout",
     "output_type": "stream",
     "text": [
      "[0] = data/20170112_RFiSHp2aLFCYC/decon/488/cell4_ch0_stack0004_488nm_0040241msec_0007974972msecAbs_decon.tif\n"
     ]
    }
   ],
   "source": [
    "source_folder = os.path.join(*[\"data\", \"20170112_RFiSHp2aLFCYC\", \"decon\", \"488\"])\n",
    "file_list = fileutils.list_files(\n",
    "    source_folder,\n",
    "    name_filters=[\n",
    "        fileutils.ExtensionFilter('tif'),\n",
    "        fileutils.SPIMFilter(channel=0)\n",
    "    ]\n",
    ")\n",
    "\n",
    "print(\"[0] = {}\".format(file_list[0]))"
   ]
  },
  {
   "cell_type": "markdown",
   "metadata": {},
   "source": [
    "Load the image."
   ]
  },
  {
   "cell_type": "code",
   "execution_count": 3,
   "metadata": {},
   "outputs": [
    {
     "name": "stderr",
     "output_type": "stream",
     "text": [
      "module compiled against API version 0xc but this version of numpy is 0xb\n",
      "  Functionality might be degraded or be slow.\n",
      "\n"
     ]
    },
    {
     "name": "stdout",
     "output_type": "stream",
     "text": [
      "layout=<class 'utoolbox.container.layouts.Volume'>\n"
     ]
    }
   ],
   "source": [
    "image = Raster(file_list[0], layout=Volume, spacing=(.100319, .102, .102))\n",
    "print(\"layout={}\".format(image.metadata.layout))"
   ]
  },
  {
   "cell_type": "code",
   "execution_count": null,
   "metadata": {},
   "outputs": [],
   "source": [
    "image = image[::4, ::4, ::4]"
   ]
  },
  {
   "cell_type": "code",
   "execution_count": null,
   "metadata": {},
   "outputs": [],
   "source": [
    "image.metadata.layout = Volume\n",
    "image.metadata.spacing = (.100319*4, .102*4, .102*4)\n",
    "image.save(\"data/downsampled.tif\")"
   ]
  },
  {
   "cell_type": "code",
   "execution_count": 4,
   "metadata": {},
   "outputs": [],
   "source": [
    "image_sitk = image.to_sitk()"
   ]
  },
  {
   "cell_type": "code",
   "execution_count": null,
   "metadata": {},
   "outputs": [],
   "source": [
    "mag_filter = sitk.GradientMagnitudeRecursiveGaussianImageFilter()\n",
    "mag_filter.SetSigma(.01)\n",
    "mag_filter = mag_filter.Execute(image_sitk)"
   ]
  },
  {
   "cell_type": "code",
   "execution_count": null,
   "metadata": {},
   "outputs": [],
   "source": [
    "sitk.Show(mag_filter)"
   ]
  },
  {
   "cell_type": "code",
   "execution_count": null,
   "metadata": {},
   "outputs": [],
   "source": [
    "feature = sitk.BoundedReciprocal(mag_filter)\n",
    "feature = sitk.Cast(feature, sitk.sitkFloat32)"
   ]
  },
  {
   "cell_type": "code",
   "execution_count": 5,
   "metadata": {},
   "outputs": [],
   "source": [
    "feature_2 = sitk.BoundedReciprocal(image_sitk)\n",
    "feature_2 = sitk.Cast(feature_2, sitk.sitkFloat32)"
   ]
  },
  {
   "cell_type": "code",
   "execution_count": 6,
   "metadata": {},
   "outputs": [],
   "source": [
    "segments = feature_2 < .01"
   ]
  },
  {
   "cell_type": "code",
   "execution_count": 12,
   "metadata": {},
   "outputs": [],
   "source": [
    "f = sitk.BinaryMorphologicalOpeningImageFilter()\n",
    "f.SetKernelType(sitk.BinaryMorphologicalClosingImageFilter.Ball)\n",
    "f.SetKernelRadius(1)\n",
    "\n",
    "segments_f = f.Execute(segments)"
   ]
  },
  {
   "cell_type": "code",
   "execution_count": null,
   "metadata": {},
   "outputs": [],
   "source": [
    "from scipy.ndimage.morphology import binary_fill_holes\n",
    "segments_fill = binary_fill_holes(sitk.GetArrayFromImage(segments_f), np.ones([15, 15, 15]))"
   ]
  },
  {
   "cell_type": "code",
   "execution_count": 22,
   "metadata": {},
   "outputs": [
    {
     "data": {
      "text/plain": [
       "dtype('bool')"
      ]
     },
     "execution_count": 22,
     "metadata": {},
     "output_type": "execute_result"
    }
   ],
   "source": [
    "segments_fill.dtype"
   ]
  },
  {
   "cell_type": "code",
   "execution_count": null,
   "metadata": {},
   "outputs": [],
   "source": [
    "imageio.volwrite(\"data/segments.tif\", segments_fill.astype(np.int8))"
   ]
  },
  {
   "cell_type": "code",
   "execution_count": null,
   "metadata": {},
   "outputs": [],
   "source": [
    "sitk.Show(feature_2)"
   ]
  },
  {
   "cell_type": "markdown",
   "metadata": {},
   "source": [
    "Generate distance map with respective to center."
   ]
  },
  {
   "cell_type": "code",
   "execution_count": null,
   "metadata": {},
   "outputs": [],
   "source": [
    "nz, ny, nx = image.shape\n",
    "\n",
    "seed = sitk.Image(nx, ny, nz, sitk.sitkUInt8)\n",
    "seed.SetSpacing(image_sitk.GetSpacing())\n",
    "seed.SetOrigin(image_sitk.GetOrigin())\n",
    "seed.SetDirection(image_sitk.GetDirection())\n",
    "\n",
    "seed[nx//2, ny//2, nz//2] = 1"
   ]
  },
  {
   "cell_type": "code",
   "execution_count": null,
   "metadata": {},
   "outputs": [],
   "source": [
    "distance = sitk.SignedMaurerDistanceMapImageFilter()\n",
    "distance.InsideIsPositiveOn()\n",
    "distance.UseImageSpacingOn()\n",
    "distance = distance.Execute(seed)"
   ]
  },
  {
   "cell_type": "code",
   "execution_count": null,
   "metadata": {},
   "outputs": [],
   "source": [
    "sitk.Show(distance)"
   ]
  },
  {
   "cell_type": "code",
   "execution_count": null,
   "metadata": {},
   "outputs": [],
   "source": [
    "init = sitk.BinaryThreshold(distance, -100, 10)\n",
    "init = sitk.Cast(init, feature.GetPixelID()) * -1 + 0.5"
   ]
  },
  {
   "cell_type": "code",
   "execution_count": null,
   "metadata": {},
   "outputs": [],
   "source": [
    "sitk.Show(init)"
   ]
  },
  {
   "cell_type": "markdown",
   "metadata": {},
   "source": [
    "GAC"
   ]
  },
  {
   "cell_type": "code",
   "execution_count": null,
   "metadata": {},
   "outputs": [],
   "source": [
    "gac = sitk.GeodesicActiveContourLevelSetImageFilter()\n",
    "gac.SetPropagationScaling(.1)\n",
    "gac.SetCurvatureScaling(.01)\n",
    "gac.SetAdvectionScaling(1.)\n",
    "gac.SetMaximumRMSError(.001)\n",
    "gac.SetNumberOfIterations(1000)\n",
    "\n",
    "for i in range(10):\n",
    "    level_set = gac.Execute(init, feature_2)\n",
    "    imageio.volwrite(\"data/i_nf_{}.tif\".format((i+1)*1000), sitk.GetArrayFromImage(level_set))\n",
    "    \n",
    "    print(\"i={}\".format((i+1)*1000))\n",
    "    print(\".. RMS Change : \", gac.GetRMSChange())\n",
    "    print(\".. Elapsed Iterations : \", gac.GetElapsedIterations())\n",
    "    \n",
    "    init = level_set"
   ]
  },
  {
   "cell_type": "code",
   "execution_count": null,
   "metadata": {},
   "outputs": [],
   "source": [
    "gac = sitk.GeodesicActiveContourLevelSetImageFilter()\n",
    "gac.SetPropagationScaling(.1)\n",
    "gac.SetCurvatureScaling(.01)\n",
    "gac.SetAdvectionScaling(1.)\n",
    "gac.SetMaximumRMSError(.001)\n",
    "gac.SetNumberOfIterations(5000)\n",
    "\n",
    "level_set = gac.Execute(init, feature)"
   ]
  },
  {
   "cell_type": "markdown",
   "metadata": {},
   "source": [
    "Upsample"
   ]
  },
  {
   "cell_type": "code",
   "execution_count": null,
   "metadata": {},
   "outputs": [],
   "source": [
    "identity = sitk.Transform()\n",
    "identity.SetIdentity()\n",
    "\n",
    "resampler = sitk.ResampleImageFilter()\n",
    "resampler.SetDefaultPixelValue(0)\n",
    "resampler.SetTransform(identity)\n",
    "resampler.SetInterpolator(sitk.sitkLinear)\n",
    "resampler.SetOutputSpacing((.100319, .102, .102))\n",
    "resampler.SetSize((nx, ny, nz))\n",
    "resampler.SetOutputOrigin((0, 0, 0))\n",
    "upsample = resampler.Execute(level_set)"
   ]
  },
  {
   "cell_type": "code",
   "execution_count": null,
   "metadata": {},
   "outputs": [],
   "source": [
    "imageio.volwrite(\"data/upsample.tif\", sitk.GetArrayFromImage(upsample))"
   ]
  },
  {
   "cell_type": "code",
   "execution_count": null,
   "metadata": {},
   "outputs": [],
   "source": [
    "sitk.Show(lap_result)"
   ]
  },
  {
   "cell_type": "code",
   "execution_count": null,
   "metadata": {},
   "outputs": [],
   "source": [
    "contour = sitk.BinaryContour(sitk.BinaryThreshold(level_set, -1000, 0 ))\n",
    "sitk.Show(contour, \"Levelset Countour\")"
   ]
  },
  {
   "cell_type": "code",
   "execution_count": null,
   "metadata": {},
   "outputs": [],
   "source": []
  }
 ],
 "metadata": {
  "kernelspec": {
   "display_name": "uToolbox",
   "language": "python",
   "name": "utoolbox"
  },
  "language_info": {
   "codemirror_mode": {
    "name": "ipython",
    "version": 3
   },
   "file_extension": ".py",
   "mimetype": "text/x-python",
   "name": "python",
   "nbconvert_exporter": "python",
   "pygments_lexer": "ipython3",
   "version": "3.6.5"
  }
 },
 "nbformat": 4,
 "nbformat_minor": 2
}
