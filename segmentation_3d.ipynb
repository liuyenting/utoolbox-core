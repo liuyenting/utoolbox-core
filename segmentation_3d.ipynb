{
 "cells": [
  {
   "cell_type": "code",
   "execution_count": 1,
   "metadata": {},
   "outputs": [],
   "source": [
    "import os\n",
    "\n",
    "import imageio\n",
    "import numpy as np\n",
    "import matplotlib.pyplot as plt\n",
    "\n",
    "import utoolbox.utils.files as fileutils\n",
    "from utoolbox.container import Raster\n",
    "from utoolbox.container.layouts import Volume"
   ]
  },
  {
   "cell_type": "markdown",
   "metadata": {},
   "source": [
    "Retrieve file list from source directory."
   ]
  },
  {
   "cell_type": "code",
   "execution_count": 2,
   "metadata": {},
   "outputs": [
    {
     "name": "stdout",
     "output_type": "stream",
     "text": [
      "[0] = data/20170112_RFiSHp2aLFCYC/decon/488/cell4_ch0_stack0004_488nm_0040241msec_0007974972msecAbs_decon.tif\n"
     ]
    }
   ],
   "source": [
    "source_folder = os.path.join(*[\"data\", \"20170112_RFiSHp2aLFCYC\", \"decon\", \"488\"])\n",
    "file_list = fileutils.list_files(\n",
    "    source_folder,\n",
    "    name_filters=[\n",
    "        fileutils.ExtensionFilter('tif'),\n",
    "        fileutils.SPIMFilter(channel=0)\n",
    "    ]\n",
    ")\n",
    "\n",
    "print(\"[0] = {}\".format(file_list[0]))"
   ]
  },
  {
   "cell_type": "markdown",
   "metadata": {},
   "source": [
    "Load the image."
   ]
  },
  {
   "cell_type": "code",
   "execution_count": 3,
   "metadata": {},
   "outputs": [
    {
     "name": "stdout",
     "output_type": "stream",
     "text": [
      "layout=<class 'utoolbox.container.layouts.Volume'>\n"
     ]
    }
   ],
   "source": [
    "image = Raster(file_list[0], layout=Volume, spacing=(.100319, .102, .102))\n",
    "print(\"layout={}\".format(image.metadata.layout))"
   ]
  },
  {
   "cell_type": "code",
   "execution_count": 4,
   "metadata": {},
   "outputs": [],
   "source": [
    "image_sitk = image.to_sitk()"
   ]
  },
  {
   "cell_type": "code",
   "execution_count": 5,
   "metadata": {},
   "outputs": [
    {
     "name": "stdout",
     "output_type": "stream",
     "text": [
      "Image (0x7fa530c790d0)\n",
      "  RTTI typeinfo:   itk::Image<float, 3u>\n",
      "  Reference Count: 1\n",
      "  Modified Time: 779\n",
      "  Debug: Off\n",
      "  Object Name: \n",
      "  Observers: \n",
      "    none\n",
      "  Source: (none)\n",
      "  Source output name: (none)\n",
      "  Release Data: Off\n",
      "  Data Released: False\n",
      "  Global Release Data: Off\n",
      "  PipelineMTime: 0\n",
      "  UpdateMTime: 0\n",
      "  RealTimeStamp: 0 seconds \n",
      "  LargestPossibleRegion: \n",
      "    Dimension: 3\n",
      "    Index: [0, 0, 0]\n",
      "    Size: [810, 810, 140]\n",
      "  BufferedRegion: \n",
      "    Dimension: 3\n",
      "    Index: [0, 0, 0]\n",
      "    Size: [810, 810, 140]\n",
      "  RequestedRegion: \n",
      "    Dimension: 3\n",
      "    Index: [0, 0, 0]\n",
      "    Size: [810, 810, 140]\n",
      "  Spacing: [0.102, 0.102, 0.100319]\n",
      "  Origin: [0, 0, 0]\n",
      "  Direction: \n",
      "1 0 0\n",
      "0 1 0\n",
      "0 0 1\n",
      "\n",
      "  IndexToPointMatrix: \n",
      "0.102 0 0\n",
      "0 0.102 0\n",
      "0 0 0.100319\n",
      "\n",
      "  PointToIndexMatrix: \n",
      "9.80392 0 0\n",
      "0 9.80392 0\n",
      "0 0 9.9682\n",
      "\n",
      "  Inverse Direction: \n",
      "1 0 0\n",
      "0 1 0\n",
      "0 0 1\n",
      "\n",
      "  PixelContainer: \n",
      "    ImportImageContainer (0x7fa530c715c0)\n",
      "      RTTI typeinfo:   itk::ImportImageContainer<unsigned long, float>\n",
      "      Reference Count: 1\n",
      "      Modified Time: 777\n",
      "      Debug: Off\n",
      "      Object Name: \n",
      "      Observers: \n",
      "        none\n",
      "      Pointer: 0x139ffd000\n",
      "      Container manages memory: true\n",
      "      Size: 91854000\n",
      "      Capacity: 91854000\n",
      "\n"
     ]
    }
   ],
   "source": [
    "print(image_sitk)"
   ]
  }
 ],
 "metadata": {
  "kernelspec": {
   "display_name": "uToolbox",
   "language": "python",
   "name": "utoolbox"
  },
  "language_info": {
   "codemirror_mode": {
    "name": "ipython",
    "version": 3
   },
   "file_extension": ".py",
   "mimetype": "text/x-python",
   "name": "python",
   "nbconvert_exporter": "python",
   "pygments_lexer": "ipython3",
   "version": "3.6.5"
  }
 },
 "nbformat": 4,
 "nbformat_minor": 2
}
