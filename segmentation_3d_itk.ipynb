{
 "cells": [
  {
   "cell_type": "code",
   "execution_count": 84,
   "metadata": {},
   "outputs": [],
   "source": [
    "import os\n",
    "\n",
    "import imageio\n",
    "import numpy as np\n",
    "import matplotlib.pyplot as plt\n",
    "import SimpleITK as sitk\n",
    "\n",
    "import utoolbox.utils.files as fileutils\n",
    "from utoolbox.container import Raster\n",
    "from utoolbox.container.layouts import Volume"
   ]
  },
  {
   "cell_type": "markdown",
   "metadata": {},
   "source": [
    "#### Load image"
   ]
  },
  {
   "cell_type": "code",
   "execution_count": 82,
   "metadata": {},
   "outputs": [
    {
     "name": "stdout",
     "output_type": "stream",
     "text": [
      "[0]=data/membrane_seg/sample1.tif\n",
      "layout=<class 'utoolbox.container.layouts.Volume'>\n"
     ]
    }
   ],
   "source": [
    "source_folder = os.path.join(*[\"data\", \"membrane_seg\"])\n",
    "file_list = fileutils.list_files(\n",
    "    source_folder,\n",
    "    name_filters=[\n",
    "        fileutils.ExtensionFilter('tif')\n",
    "    ]\n",
    ")\n",
    "\n",
    "fid = 0\n",
    "print(\"[{}]={}\".format(fid, file_list[fid]))\n",
    "\n",
    "image = Raster(file_list[fid], layout=Volume, spacing=(.100319, .102, .102))\n",
    "print(\"layout={}\".format(image.metadata.layout))\n",
    "\n",
    "image_sitk = image.to_sitk()"
   ]
  },
  {
   "cell_type": "markdown",
   "metadata": {},
   "source": [
    "#### Speed function 1/(x+1)"
   ]
  },
  {
   "cell_type": "code",
   "execution_count": 69,
   "metadata": {},
   "outputs": [],
   "source": [
    "speed_func = 1 / (image+1)"
   ]
  },
  {
   "cell_type": "markdown",
   "metadata": {},
   "source": [
    "#### Find centroid"
   ]
  },
  {
   "cell_type": "code",
   "execution_count": 101,
   "metadata": {},
   "outputs": [
    {
     "ename": "TypeError",
     "evalue": "int() argument must be a string, a bytes-like object or a number, not 'tuple'",
     "output_type": "error",
     "traceback": [
      "\u001b[0;31m---------------------------------------------------------------------------\u001b[0m",
      "\u001b[0;31mTypeError\u001b[0m                                 Traceback (most recent call last)",
      "\u001b[0;32m<ipython-input-101-32f46e49abdf>\u001b[0m in \u001b[0;36m<module>\u001b[0;34m()\u001b[0m\n\u001b[1;32m      1\u001b[0m \u001b[0;32mfrom\u001b[0m \u001b[0mscipy\u001b[0m\u001b[0;34m.\u001b[0m\u001b[0mndimage\u001b[0m \u001b[0;32mimport\u001b[0m \u001b[0mmeasurements\u001b[0m\u001b[0;34m\u001b[0m\u001b[0m\n\u001b[1;32m      2\u001b[0m \u001b[0mcom\u001b[0m \u001b[0;34m=\u001b[0m \u001b[0mmeasurements\u001b[0m\u001b[0;34m.\u001b[0m\u001b[0mcenter_of_mass\u001b[0m\u001b[0;34m(\u001b[0m\u001b[0mimage\u001b[0m\u001b[0;34m.\u001b[0m\u001b[0mview\u001b[0m\u001b[0;34m(\u001b[0m\u001b[0mnp\u001b[0m\u001b[0;34m.\u001b[0m\u001b[0mndarray\u001b[0m\u001b[0;34m)\u001b[0m\u001b[0;34m)\u001b[0m\u001b[0;34m\u001b[0m\u001b[0m\n\u001b[0;32m----> 3\u001b[0;31m \u001b[0mcom\u001b[0m \u001b[0;34m=\u001b[0m \u001b[0mint\u001b[0m\u001b[0;34m(\u001b[0m\u001b[0mtuple\u001b[0m\u001b[0;34m(\u001b[0m\u001b[0mnp\u001b[0m\u001b[0;34m.\u001b[0m\u001b[0mfloor\u001b[0m\u001b[0;34m(\u001b[0m\u001b[0mcom\u001b[0m\u001b[0;34m)\u001b[0m\u001b[0;34m)\u001b[0m\u001b[0;34m)\u001b[0m\u001b[0;34m\u001b[0m\u001b[0m\n\u001b[0m",
      "\u001b[0;31mTypeError\u001b[0m: int() argument must be a string, a bytes-like object or a number, not 'tuple'"
     ]
    }
   ],
   "source": [
    "from scipy.ndimage import measurements\n",
    "com = measurements.center_of_mass(image.view(np.ndarray))\n",
    "com = tuple(np.floor(com))"
   ]
  },
  {
   "cell_type": "code",
   "execution_count": null,
   "metadata": {},
   "outputs": [],
   "source": [
    "com"
   ]
  },
  {
   "cell_type": "markdown",
   "metadata": {},
   "source": [
    "#### Generate distance map"
   ]
  },
  {
   "cell_type": "code",
   "execution_count": 104,
   "metadata": {},
   "outputs": [],
   "source": [
    "nz, ny, nx = image.shape\n",
    "cz = com[0]\n",
    "cy = com[1]\n",
    "cx = com[2]\n",
    "\n",
    "seed = sitk.Image(nx, ny, nz, sitk.sitkUInt8)\n",
    "seed.SetSpacing(image_sitk.GetSpacing())\n",
    "seed.SetOrigin(image_sitk.GetOrigin())\n",
    "seed.SetDirection(image_sitk.GetDirection())\n",
    "\n",
    "seed[int(cx), int(cy), int(cz)] = 1\n",
    "\n",
    "seed_distance = sitk.SignedMaurerDistanceMap(\n",
    "    seed, insideIsPositive=True, useImageSpacing=True\n",
    ")\n",
    "init = sitk.BinaryThreshold(seed_distance, -20, 0)\n",
    "sitk.Show(init)"
   ]
  },
  {
   "cell_type": "code",
   "execution_count": 71,
   "metadata": {},
   "outputs": [],
   "source": [
    "edges = 1 - speed_func\n",
    "edges[edges < 0] = 0"
   ]
  },
  {
   "cell_type": "code",
   "execution_count": 75,
   "metadata": {},
   "outputs": [
    {
     "name": "stdout",
     "output_type": "stream",
     "text": [
      "(x, y, z) = (1488.9300491024376, 7953.237770807674, 8288.357771641457)\n"
     ]
    }
   ],
   "source": [
    "cx = np.mean(image * gx)\n",
    "cy = np.mean(image * gy)\n",
    "cz = np.mean(image * gz)\n",
    "print(\"(x, y, z) = ({}, {}, {})\".format(cx, cy, cz))"
   ]
  },
  {
   "cell_type": "code",
   "execution_count": 73,
   "metadata": {},
   "outputs": [],
   "source": [
    "edges.save(\"data/edges.tif\")"
   ]
  },
  {
   "cell_type": "code",
   "execution_count": 36,
   "metadata": {},
   "outputs": [
    {
     "data": {
      "text/plain": [
       "[<matplotlib.lines.Line2D at 0x1583005c0>]"
      ]
     },
     "execution_count": 36,
     "metadata": {},
     "output_type": "execute_result"
    },
    {
     "data": {
      "image/png": "[encoded data removed]",
      "text/plain": [
       "<Figure size 432x288 with 1 Axes>"
      ]
     },
     "metadata": {},
     "output_type": "display_data"
    }
   ],
   "source": [
    "from skimage.exposure import histogram\n",
    "hist = histogram(speed_func, nbins=256)\n",
    "plt.plot(hist[1], hist[0])"
   ]
  },
  {
   "cell_type": "code",
   "execution_count": 34,
   "metadata": {},
   "outputs": [],
   "source": [
    "def outliers_modified_z_score(ys):\n",
    "    threshold = 3.5\n",
    "\n",
    "    median_y = np.median(ys)\n",
    "    median_absolute_deviation_y = np.median([np.abs(y - median_y) for y in ys])\n",
    "    modified_z_scores = [0.6745 * (y - median_y) / median_absolute_deviation_y\n",
    "                         for y in ys]\n",
    "    return np.abs(modified_z_scores)"
   ]
  },
  {
   "cell_type": "code",
   "execution_count": 35,
   "metadata": {},
   "outputs": [
    {
     "data": {
      "text/plain": [
       "[<matplotlib.lines.Line2D at 0x1582b2ba8>]"
      ]
     },
     "execution_count": 35,
     "metadata": {},
     "output_type": "execute_result"
    },
    {
     "data": {
      "image/png": "[encoded data removed]",
      "text/plain": [
       "<Figure size 432x288 with 1 Axes>"
      ]
     },
     "metadata": {},
     "output_type": "display_data"
    }
   ],
   "source": [
    "plt.plot(hist[1], outliers_modified_z_score(hist[0]))"
   ]
  },
  {
   "cell_type": "code",
   "execution_count": null,
   "metadata": {},
   "outputs": [],
   "source": [
    "image_itk = itk.GetImageFromArray(image)"
   ]
  },
  {
   "cell_type": "code",
   "execution_count": null,
   "metadata": {},
   "outputs": [],
   "source": [
    "float_t = itk.Image[itk.F, 3]\n",
    "int_t = itk.Image[itk.US, 3]"
   ]
  },
  {
   "cell_type": "code",
   "execution_count": null,
   "metadata": {},
   "outputs": [],
   "source": [
    "BoundedReciprocalImageFilterType = itk.BoundedReciprocalImageFilter[float_t, float_t]\n",
    "BoundedReciprocalImageFilter = BoundedReciprocalImageFilterType.New()\n",
    "\n",
    "BoundedReciprocalImageFilter.SetInput(image_itk)\n",
    "speed_func = BoundedReciprocalImageFilter.GetOutput()\n",
    "speed_func.Update()"
   ]
  },
  {
   "cell_type": "code",
   "execution_count": null,
   "metadata": {},
   "outputs": [],
   "source": [
    "RescaleIntensityImageFilterType = itk.RescaleIntensityImageFilter[float_t, int_t]\n",
    "RescaleIntensityImageFilter = RescaleIntensityImageFilterType.New()\n",
    "\n",
    "RescaleIntensityImageFilter.SetInput(speed_func)\n",
    "RescaleIntensityImageFilter.SetOutputMinimum(0)\n",
    "RescaleIntensityImageFilter.SetOutputMaximum(65535)\n",
    "rescaled = RescaleIntensityImageFilter.GetOutput()\n",
    "rescaled.Update()"
   ]
  },
  {
   "cell_type": "code",
   "execution_count": null,
   "metadata": {},
   "outputs": [],
   "source": [
    "OtsuThresholdImageFilterType = itk.OtsuThresholdImageFilter[float_t, int_t]\n",
    "OtsuThresholdImageFilter = OtsuThresholdImageFilterType.New()\n",
    "\n",
    "OtsuThresholdImageFilter.SetInput(speed_func)\n",
    "binary = OtsuThresholdImageFilter.GetOutput()\n",
    "binary.Update()"
   ]
  },
  {
   "cell_type": "code",
   "execution_count": null,
   "metadata": {},
   "outputs": [],
   "source": [
    "itk.imwrite(speed_func, \"data/speed.tif\")"
   ]
  },
  {
   "cell_type": "code",
   "execution_count": null,
   "metadata": {},
   "outputs": [],
   "source": []
  }
 ],
 "metadata": {
  "kernelspec": {
   "display_name": "uToolbox",
   "language": "python",
   "name": "utoolbox"
  },
  "language_info": {
   "codemirror_mode": {
    "name": "ipython",
    "version": 3
   },
   "file_extension": ".py",
   "mimetype": "text/x-python",
   "name": "python",
   "nbconvert_exporter": "python",
   "pygments_lexer": "ipython3",
   "version": "3.6.5"
  }
 },
 "nbformat": 4,
 "nbformat_minor": 2
}
